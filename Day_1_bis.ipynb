{
  "nbformat": 4,
  "nbformat_minor": 0,
  "metadata": {
    "colab": {
      "provenance": [],
      "authorship_tag": "ABX9TyOI5XiuaIr7wC+l9HQGWhx0",
      "include_colab_link": true
    },
    "kernelspec": {
      "name": "python3",
      "display_name": "Python 3"
    },
    "language_info": {
      "name": "python"
    }
  },
  "cells": [
    {
      "cell_type": "markdown",
      "metadata": {
        "id": "view-in-github",
        "colab_type": "text"
      },
      "source": [
        "<a href=\"https://colab.research.google.com/github/jcplessis/cnv/blob/master/Day_1_bis.ipynb\" target=\"_parent\"><img src=\"https://colab.research.google.com/assets/colab-badge.svg\" alt=\"Open In Colab\"/></a>"
      ]
    },
    {
      "cell_type": "code",
      "source": [
        "def split_by_elf(input):\n",
        "  return input.split(\"\\n\\n\")\n",
        "\n",
        "def string_to_elf_list(input):\n",
        "  return [int(x) for x in input.split(\"\\n\")]\n",
        "\n",
        "def calories_per_elf(input):\n",
        "  return [sum(string_to_elf_list(x)) for x in split_by_elf(input)]\n",
        "\n",
        "def max_calories(input):\n",
        "  return max(calories_per_elf(input))\n",
        "\n",
        "def top_3_calories(input):\n",
        "  calories = calories_per_elf(input)\n",
        "  calories.sort()\n",
        "  return sum(calories[-3:])"
      ],
      "metadata": {
        "id": "F__vyCvqcE5x"
      },
      "execution_count": 43,
      "outputs": []
    },
    {
      "cell_type": "code",
      "execution_count": 44,
      "metadata": {
        "id": "LRFPME2_BUUs",
        "colab": {
          "base_uri": "https://localhost:8080/"
        },
        "outputId": "fa79b8e5-60e3-462b-9181-4f7367749aa4"
      },
      "outputs": [
        {
          "output_type": "stream",
          "name": "stderr",
          "text": [
            "test_max_calories (__main__.TestAcceptance) ... ok\n",
            "test_top_3_calories (__main__.TestAcceptance) ... ok\n",
            "\n",
            "----------------------------------------------------------------------\n",
            "Ran 2 tests in 0.007s\n",
            "\n",
            "OK\n"
          ]
        },
        {
          "output_type": "execute_result",
          "data": {
            "text/plain": [
              "<unittest.main.TestProgram at 0x7f6383e75160>"
            ]
          },
          "metadata": {},
          "execution_count": 44
        }
      ],
      "source": [
        "import unittest\n",
        "\n",
        "example = \"\"\"1000\n",
        "2000\n",
        "3000\n",
        "\n",
        "4000\n",
        "\n",
        "5000\n",
        "6000\n",
        "\n",
        "7000\n",
        "8000\n",
        "9000\n",
        "\n",
        "10000\"\"\"\n",
        "\n",
        "class TestAcceptance(unittest.TestCase):\n",
        "\n",
        "    def test_max_calories(self):\n",
        "        self.assertEqual(24000, max_calories(example))\n",
        "\n",
        "    def test_top_3_calories(self):\n",
        "        self.assertEqual(45000, top_3_calories(example))\n",
        "\n",
        "\n",
        "unittest.main(argv=[''], verbosity=2, exit=False)"
      ]
    },
    {
      "cell_type": "code",
      "source": [
        "input = open(\"input.txt\").read()\n",
        "\n",
        "print(f\"The elf with most calories has : {max_calories(input)}\")\n",
        "print(f\"The top 3 elves have {top_3_calories(input)} calories combined\")"
      ],
      "metadata": {
        "colab": {
          "base_uri": "https://localhost:8080/"
        },
        "id": "5fQnCOGTc4dF",
        "outputId": "03c21745-eef9-4c42-f4b9-9b648f134027"
      },
      "execution_count": 48,
      "outputs": [
        {
          "output_type": "stream",
          "name": "stdout",
          "text": [
            "The elf with most calories has : 69693\n",
            "The top 3 elves have 200945 calories combined\n"
          ]
        }
      ]
    }
  ]
}